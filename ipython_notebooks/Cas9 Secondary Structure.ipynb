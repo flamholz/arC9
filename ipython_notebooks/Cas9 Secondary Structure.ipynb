{
 "cells": [
  {
   "cell_type": "code",
   "execution_count": 1,
   "metadata": {
    "collapsed": false
   },
   "outputs": [],
   "source": [
    "%matplotlib inline\n",
    "# Secondary structure computations done with stride.\n",
    "#   http://webclu.bio.wzw.tum.de/cgi-bin/stride/stridecgi.py\n",
    "\n",
    "import csv\n",
    "import StringIO\n",
    "import pandas as pd\n",
    "import numpy as np"
   ]
  },
  {
   "cell_type": "code",
   "execution_count": 2,
   "metadata": {
    "collapsed": false
   },
   "outputs": [],
   "source": [
    "def stride_to_df(stride_fname, struct_id):\n",
    "    assignment_rows = []\n",
    "    with open(stride_fname) as f:\n",
    "        for line in f:\n",
    "            if line.startswith('ASG'):\n",
    "                row = line.strip().split()\n",
    "                row = row[1:-4]\n",
    "                row[2] = int(row[2])\n",
    "                row[3] = int(row[3])\n",
    "                assignment_rows.append(row)\n",
    "\n",
    "    cols = ['Residue_%s' % struct_id, 'Chain',\n",
    "            'PDBResidueNum', 'OrdinalResidueNum_%s' % struct_id,\n",
    "            'ShortSecondaryStructure_%s' % struct_id,\n",
    "            'SecondaryStructure_%s' % struct_id]\n",
    "    df = pd.DataFrame(assignment_rows, columns=cols)\n",
    "    df.set_index(['PDBResidueNum'], inplace=True)\n",
    "    return df\n",
    "        "
   ]
  },
  {
   "cell_type": "code",
   "execution_count": 3,
   "metadata": {
    "collapsed": false
   },
   "outputs": [],
   "source": [
    "sec_4CMP = stride_to_df('../data/4CMP_stride.txt', '4CMP')\n",
    "sec_4OO8 = stride_to_df('../data/4OO8_stride.txt', '4OO8')\n",
    "sec_4UN3 = stride_to_df('../data/4UN3_stride.txt', '4UN3')\n",
    "\n",
    "sec_4CMP.to_csv('../data/4CMP_stride.csv')\n",
    "sec_4OO8.to_csv('../data/4OO8_stride.csv')\n",
    "sec_4UN3.to_csv('../data/4UN3_stride.csv')"
   ]
  },
  {
   "cell_type": "code",
   "execution_count": 4,
   "metadata": {
    "collapsed": false
   },
   "outputs": [],
   "source": [
    "sec_4CMP_singlechain = sec_4CMP[sec_4CMP.Chain == 'A']\n",
    "sec_4CMP_singlechain = sec_4CMP_singlechain.drop('Chain', axis=1)\n",
    "\n",
    "sec_4OO8_singlechain = sec_4OO8[sec_4OO8.Chain == 'A']\n",
    "sec_4OO8_singlechain = sec_4OO8_singlechain.drop('Chain', axis=1)\n",
    "\n",
    "sec_4UN3_singlechain = sec_4UN3[sec_4UN3.Chain == 'B']\n",
    "sec_4UN3_singlechain = sec_4UN3_singlechain.drop('Chain', axis=1)"
   ]
  },
  {
   "cell_type": "code",
   "execution_count": 5,
   "metadata": {
    "collapsed": false
   },
   "outputs": [],
   "source": [
    "merged_df = pd.concat([sec_4CMP_singlechain, sec_4OO8_singlechain, sec_4UN3_singlechain], axis=1)\n",
    "merged_df.to_csv('../data/Cas9_merged_stride.csv')"
   ]
  },
  {
   "cell_type": "code",
   "execution_count": null,
   "metadata": {
    "collapsed": true
   },
   "outputs": [],
   "source": []
  }
 ],
 "metadata": {
  "kernelspec": {
   "display_name": "Python 2",
   "language": "python",
   "name": "python2"
  },
  "language_info": {
   "codemirror_mode": {
    "name": "ipython",
    "version": 2
   },
   "file_extension": ".py",
   "mimetype": "text/x-python",
   "name": "python",
   "nbconvert_exporter": "python",
   "pygments_lexer": "ipython2",
   "version": "2.7.5"
  }
 },
 "nbformat": 4,
 "nbformat_minor": 0
}
